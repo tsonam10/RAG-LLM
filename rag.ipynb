{
 "cells": [
  {
   "cell_type": "code",
   "execution_count": 7,
   "metadata": {},
   "outputs": [],
   "source": [
    "from langchain_community.document_loaders import PyPDFLoader\n",
    "from langchain_text_splitters import RecursiveCharacterTextSplitter\n",
    "from langchain_community.embeddings import HuggingFaceEmbeddings\n",
    "from langchain_community.vectorstores import Chroma\n",
    "from langchain_community.llms import HuggingFacePipeline\n",
    "from langchain.chains import RetrievalQA\n",
    "from transformers import AutoTokenizer, AutoModelForCausalLM, pipeline"
   ]
  },
  {
   "cell_type": "code",
   "execution_count": 20,
   "metadata": {},
   "outputs": [
    {
     "name": "stderr",
     "output_type": "stream",
     "text": [
      "100%|██████████| 2/2 [00:03<00:00,  1.54s/it]\n"
     ]
    }
   ],
   "source": [
    "from langchain_community.document_loaders import DirectoryLoader\n",
    "\n",
    "loader =DirectoryLoader('data/', glob=\"**/*.pdf\", show_progress=True, loader_cls=PyPDFLoader)\n",
    "documents = loader.load()"
   ]
  },
  {
   "cell_type": "code",
   "execution_count": 21,
   "metadata": {},
   "outputs": [],
   "source": [
    "# split text into chunks\n",
    "text_splitter = RecursiveCharacterTextSplitter(chunk_size=1000, chunk_overlap=100)\n",
    "texts = text_splitter.split_documents(documents)"
   ]
  },
  {
   "cell_type": "code",
   "execution_count": 22,
   "metadata": {},
   "outputs": [],
   "source": [
    "embeddings = HuggingFaceEmbeddings(\n",
    "    model_name = \"BAAI/bge-large-en\",\n",
    "    model_kwargs = {'device': 'cpu'},\n",
    "    encode_kwargs ={'normalize_embeddings': False}\n",
    "\n",
    ")\n"
   ]
  },
  {
   "cell_type": "code",
   "execution_count": 26,
   "metadata": {},
   "outputs": [
    {
     "name": "stdout",
     "output_type": "stream",
     "text": [
      "Vector Store Created....\n"
     ]
    }
   ],
   "source": [
    "# ingesting into chromadb \n",
    "\n",
    "vector_store =Chroma.from_documents(texts, embeddings, collection_metadata ={\"hnsw:space\": \"cosine\"}, persist_directory=\"stores/pet_cosine\")\n",
    "print('Vector Store Created....')"
   ]
  },
  {
   "cell_type": "code",
   "execution_count": 32,
   "metadata": {},
   "outputs": [
    {
     "name": "stdout",
     "output_type": "stream",
     "text": [
      "LLM Initialized....\n"
     ]
    }
   ],
   "source": [
    "from langchain.llms import CTransformers\n",
    "import os \n",
    "model =\"neural-chat-7b-v3-1.Q4_K_M.gguf\"\n",
    "\n",
    "config ={\n",
    "    'max_new_tokens': 1024,\n",
    "    'repetition_penalty': 1.1,\n",
    "    'temperature': 0.1,\n",
    "    'top_k': 50,\n",
    "    'top_p': 0.9,\n",
    "    'stream': True,\n",
    "    'threads': int(os.cpu_count() / 2)\n",
    "}\n",
    "\n",
    "llm=CTransformers(\n",
    "    model = model, \n",
    "    model_type ='llama',\n",
    "    max_new_tokens=1024,\n",
    "    temperature=0.1,\n",
    "    top_p=0.95,\n",
    "    top_k=50,\n",
    "    repetition_penality=1.1\n",
    " \n",
    ")\n",
    "\n",
    "print(\"LLM Initialized....\")"
   ]
  },
  {
   "cell_type": "code",
   "execution_count": 33,
   "metadata": {},
   "outputs": [],
   "source": [
    "prompt_template = \"\"\"Use the following pieces of information to answer the user's question.\n",
    "If you don't know the answer, just say that you don't know, don't try to make up an answer.\n",
    "\n",
    "Context: {context}\n",
    "Question: {question}\n",
    "\n",
    "Only return the helpful answer below and nothing else.\n",
    "Helpful answer:\n",
    "\"\"\""
   ]
  },
  {
   "cell_type": "code",
   "execution_count": 34,
   "metadata": {},
   "outputs": [
    {
     "name": "stderr",
     "output_type": "stream",
     "text": [
      "/Users/tsonam/Desktop/Rag_llm/rag-test/lib/python3.12/site-packages/langchain_core/_api/deprecation.py:139: LangChainDeprecationWarning: The class `Chroma` was deprecated in LangChain 0.2.9 and will be removed in 0.4. An updated version of the class exists in the langchain-chroma package and should be used instead. To use it run `pip install -U langchain-chroma` and import as `from langchain_chroma import Chroma`.\n",
      "  warn_deprecated(\n"
     ]
    }
   ],
   "source": [
    "load_vector_store = Chroma(persist_directory=\"stores/pet_cosine\", embedding_function=embeddings)"
   ]
  },
  {
   "cell_type": "code",
   "execution_count": 35,
   "metadata": {},
   "outputs": [],
   "source": [
    "retriever = load_vector_store.as_retriever(search_kwargs={\"k\":1})"
   ]
  },
  {
   "cell_type": "code",
   "execution_count": 47,
   "metadata": {},
   "outputs": [],
   "source": [
    "def get_response(query):\n",
    "    chain_type_kwargs = {\"prompt\": prompt}\n",
    "    qa = RetrievalQA.from_chain_type(llm=llm, chain_type=\"stuff\", retriever=retriever, return_source_documents=True, \n",
    "                                     chain_type_kwargs=chain_type_kwargs, verbose=True)\n",
    "    response = qa(query)\n",
    "    print(response)\n",
    "    answer = response['result']\n",
    "    source_document = response['source_documents'][0].page_content\n",
    "    doc = response['source_documents'][0].metadata['source']\n",
    "    response_data = jsonable_encoder(json.dumps({\"answer\": answer, \"source_document\": source_document, \"doc\": doc}))\n",
    "    \n",
    "    res = Response(response_data)\n",
    "    return res\n",
    "\n",
    "import json\n",
    "def generate_response1(query):\n",
    "    qa = RetrievalQA.from_chain_type(\n",
    "    llm = llm,\n",
    "    chain_type ='stuff',\n",
    "    retriever =retriever,\n",
    "    return_source_documents=True,\n",
    "    verbose=True \n",
    ")\n",
    "    response = qa(query)\n",
    "    print(response)\n",
    "    answer = response['result']\n",
    "    source_document = response['source_documents'][0].page_content\n",
    "    doc = response['source_documents'][0].metadata['source']\n",
    "    response_data = {\"answer\": answer, \"source_document\": source_document, \"doc\": doc}\n",
    "\n",
    "    return json.dumps(response_data, indent=2)"
   ]
  },
  {
   "cell_type": "code",
   "execution_count": 48,
   "metadata": {},
   "outputs": [
    {
     "name": "stdout",
     "output_type": "stream",
     "text": [
      "\n",
      "\n",
      "\u001b[1m> Entering new RetrievalQA chain...\u001b[0m\n",
      "\n",
      "\u001b[1m> Finished chain.\u001b[0m\n",
      "{'query': 'How is GAAP accounting different from tax accounting?', 'result': ' GAAP is accrual-based but tax is cash-based. GAAP uses straight-line depreciation or a few other methods whereas tax accounting has accelerated depreciation. GAAP is more complex and accurately tracks assets/liabilities, while tax accounting focuses on revenue/expenses in the current period and income taxes due.', 'source_documents': [Document(metadata={'page': 18, 'source': 'data/400 Questions & Technicals.pdf'}, page_content='http://breakingintowallstreet.com http://www.mergersandinquisitions.com  \\n \\n19 \\n \\n \\n Accounting  Questions & Answers – Advanced  \\n \\nThese more advanced questions cover topics like deferred tax assets and liabilities and \\nhow to actually project a company’s finan cial statements in an operating model.  \\n \\nYou may get some of these in investment banking interviews, but they’re more common \\nif you’ve had significant finance experience or you’re interviewing for private equity, or \\nwith a more technical group.  \\n \\n1. How is G AAP accounting different from tax accounting?  \\n \\n1. GAAP is accrual -based but tax is cash -based.  \\n2. GAAP uses straight -line depreciation or a few other methods whereas tax \\naccounting is different (accelerated depreciation).  \\n3. GAAP is more complex and more accurately  tracks assets/liabilities whereas tax \\naccounting is only concerned with revenue/expenses in the current period and \\nwhat income tax you owe.')]}\n"
     ]
    },
    {
     "data": {
      "text/plain": [
       "'{\\n  \"answer\": \" GAAP is accrual-based but tax is cash-based. GAAP uses straight-line depreciation or a few other methods whereas tax accounting has accelerated depreciation. GAAP is more complex and accurately tracks assets/liabilities, while tax accounting focuses on revenue/expenses in the current period and income taxes due.\",\\n  \"source_document\": \"http://breakingintowallstreet.com http://www.mergersandinquisitions.com  \\\\n \\\\n19 \\\\n \\\\n \\\\n Accounting  Questions & Answers \\\\u2013 Advanced  \\\\n \\\\nThese more advanced questions cover topics like deferred tax assets and liabilities and \\\\nhow to actually project a company\\\\u2019s finan cial statements in an operating model.  \\\\n \\\\nYou may get some of these in investment banking interviews, but they\\\\u2019re more common \\\\nif you\\\\u2019ve had significant finance experience or you\\\\u2019re interviewing for private equity, or \\\\nwith a more technical group.  \\\\n \\\\n1. How is G AAP accounting different from tax accounting?  \\\\n \\\\n1. GAAP is accrual -based but tax is cash -based.  \\\\n2. GAAP uses straight -line depreciation or a few other methods whereas tax \\\\naccounting is different (accelerated depreciation).  \\\\n3. GAAP is more complex and more accurately  tracks assets/liabilities whereas tax \\\\naccounting is only concerned with revenue/expenses in the current period and \\\\nwhat income tax you owe.\",\\n  \"doc\": \"data/400 Questions & Technicals.pdf\"\\n}'"
      ]
     },
     "execution_count": 48,
     "metadata": {},
     "output_type": "execute_result"
    }
   ],
   "source": [
    "query ='How is GAAP accounting different from tax accounting?'\n",
    "\n",
    "generate_response1(query)"
   ]
  },
  {
   "cell_type": "code",
   "execution_count": 12,
   "metadata": {},
   "outputs": [
    {
     "name": "stderr",
     "output_type": "stream",
     "text": [
      "/Users/tsonam/Desktop/Rag_llm/rag-test/lib/python3.12/site-packages/langchain_core/_api/deprecation.py:139: LangChainDeprecationWarning: Since Chroma 0.4.x the manual persistence method is no longer supported as docs are automatically persisted.\n",
      "  warn_deprecated(\n"
     ]
    }
   ],
   "source": [
    "embedding_function = HuggingFaceEmbeddings(model_name=\"sentence-transformers/all-MiniLM-L6-v2\")\n",
    "persist_directory = 'db'\n",
    "vectordb = Chroma.from_documents(\n",
    "      documents=texts,\n",
    "      embedding=embedding_function,\n",
    "      persist_directory=persist_directory\n",
    "    )\n",
    "vectordb.persist()"
   ]
  },
  {
   "cell_type": "code",
   "execution_count": 16,
   "metadata": {},
   "outputs": [],
   "source": [
    "from langchain.llms import CTransformers\n",
    "model =\"neural-chat-7b-v3-1.Q4_K_M.gguf\"\n",
    "\n",
    "llm=CTransformers(\n",
    "    model = model, \n",
    "    model_type ='llama',\n",
    "    max_new_tokens=512,\n",
    "    temperature=0.7,\n",
    "    top_p=0.95,\n",
    "    repetition_penalty=1.15\n",
    "\n",
    ")"
   ]
  },
  {
   "cell_type": "code",
   "execution_count": 17,
   "metadata": {},
   "outputs": [],
   "source": [
    "# create retrieval chain \n",
    "\n",
    "qa = RetrievalQA.from_chain_type(\n",
    "    llm = llm,\n",
    "    chain_type ='stuff',\n",
    "    retriever =vectordb.as_retriever(search_kwargs={\"k\": 3}),\n",
    "    return_source_documents=True,\n",
    ")"
   ]
  },
  {
   "cell_type": "code",
   "execution_count": 18,
   "metadata": {},
   "outputs": [
    {
     "name": "stderr",
     "output_type": "stream",
     "text": [
      "/Users/tsonam/Desktop/Rag_llm/rag-test/lib/python3.12/site-packages/langchain_core/_api/deprecation.py:139: LangChainDeprecationWarning: The method `Chain.__call__` was deprecated in langchain 0.1.0 and will be removed in 0.3.0. Use invoke instead.\n",
      "  warn_deprecated(\n",
      "Number of tokens (810) exceeded maximum context length (512).\n",
      "Number of tokens (811) exceeded maximum context length (512).\n",
      "Number of tokens (812) exceeded maximum context length (512).\n",
      "Number of tokens (813) exceeded maximum context length (512).\n",
      "Number of tokens (814) exceeded maximum context length (512).\n",
      "Number of tokens (815) exceeded maximum context length (512).\n",
      "Number of tokens (816) exceeded maximum context length (512).\n",
      "Number of tokens (817) exceeded maximum context length (512).\n",
      "Number of tokens (818) exceeded maximum context length (512).\n",
      "Number of tokens (819) exceeded maximum context length (512).\n",
      "Number of tokens (820) exceeded maximum context length (512).\n",
      "Number of tokens (821) exceeded maximum context length (512).\n",
      "Number of tokens (822) exceeded maximum context length (512).\n",
      "Number of tokens (823) exceeded maximum context length (512).\n",
      "Number of tokens (824) exceeded maximum context length (512).\n",
      "Number of tokens (825) exceeded maximum context length (512).\n",
      "Number of tokens (826) exceeded maximum context length (512).\n",
      "Number of tokens (827) exceeded maximum context length (512).\n",
      "Number of tokens (828) exceeded maximum context length (512).\n",
      "Number of tokens (829) exceeded maximum context length (512).\n",
      "Number of tokens (830) exceeded maximum context length (512).\n",
      "Number of tokens (831) exceeded maximum context length (512).\n",
      "Number of tokens (832) exceeded maximum context length (512).\n",
      "Number of tokens (833) exceeded maximum context length (512).\n",
      "Number of tokens (834) exceeded maximum context length (512).\n",
      "Number of tokens (835) exceeded maximum context length (512).\n",
      "Number of tokens (836) exceeded maximum context length (512).\n",
      "Number of tokens (837) exceeded maximum context length (512).\n",
      "Number of tokens (838) exceeded maximum context length (512).\n",
      "Number of tokens (839) exceeded maximum context length (512).\n",
      "Number of tokens (840) exceeded maximum context length (512).\n",
      "Number of tokens (841) exceeded maximum context length (512).\n",
      "Number of tokens (842) exceeded maximum context length (512).\n",
      "Number of tokens (843) exceeded maximum context length (512).\n",
      "Number of tokens (844) exceeded maximum context length (512).\n",
      "Number of tokens (845) exceeded maximum context length (512).\n",
      "Number of tokens (846) exceeded maximum context length (512).\n",
      "Number of tokens (847) exceeded maximum context length (512).\n",
      "Number of tokens (848) exceeded maximum context length (512).\n",
      "Number of tokens (849) exceeded maximum context length (512).\n",
      "Number of tokens (850) exceeded maximum context length (512).\n",
      "Number of tokens (851) exceeded maximum context length (512).\n",
      "Number of tokens (852) exceeded maximum context length (512).\n",
      "Number of tokens (853) exceeded maximum context length (512).\n",
      "Number of tokens (854) exceeded maximum context length (512).\n",
      "Number of tokens (855) exceeded maximum context length (512).\n",
      "Number of tokens (856) exceeded maximum context length (512).\n",
      "Number of tokens (857) exceeded maximum context length (512).\n",
      "Number of tokens (858) exceeded maximum context length (512).\n",
      "Number of tokens (859) exceeded maximum context length (512).\n",
      "Number of tokens (860) exceeded maximum context length (512).\n",
      "Number of tokens (861) exceeded maximum context length (512).\n",
      "Number of tokens (862) exceeded maximum context length (512).\n",
      "Number of tokens (863) exceeded maximum context length (512).\n",
      "Number of tokens (864) exceeded maximum context length (512).\n",
      "Number of tokens (865) exceeded maximum context length (512).\n",
      "Number of tokens (866) exceeded maximum context length (512).\n",
      "Number of tokens (867) exceeded maximum context length (512).\n",
      "Number of tokens (868) exceeded maximum context length (512).\n",
      "Number of tokens (869) exceeded maximum context length (512).\n",
      "Number of tokens (870) exceeded maximum context length (512).\n",
      "Number of tokens (871) exceeded maximum context length (512).\n",
      "Number of tokens (872) exceeded maximum context length (512).\n",
      "Number of tokens (873) exceeded maximum context length (512).\n",
      "Number of tokens (874) exceeded maximum context length (512).\n",
      "Number of tokens (875) exceeded maximum context length (512).\n",
      "Number of tokens (876) exceeded maximum context length (512).\n",
      "Number of tokens (877) exceeded maximum context length (512).\n",
      "Number of tokens (878) exceeded maximum context length (512).\n",
      "Number of tokens (879) exceeded maximum context length (512).\n",
      "Number of tokens (880) exceeded maximum context length (512).\n",
      "Number of tokens (881) exceeded maximum context length (512).\n",
      "Number of tokens (882) exceeded maximum context length (512).\n",
      "Number of tokens (883) exceeded maximum context length (512).\n",
      "Number of tokens (884) exceeded maximum context length (512).\n",
      "Number of tokens (885) exceeded maximum context length (512).\n",
      "Number of tokens (886) exceeded maximum context length (512).\n",
      "Number of tokens (887) exceeded maximum context length (512).\n",
      "Number of tokens (888) exceeded maximum context length (512).\n",
      "Number of tokens (889) exceeded maximum context length (512).\n",
      "Number of tokens (890) exceeded maximum context length (512).\n",
      "Number of tokens (891) exceeded maximum context length (512).\n",
      "Number of tokens (892) exceeded maximum context length (512).\n",
      "Number of tokens (893) exceeded maximum context length (512).\n",
      "Number of tokens (894) exceeded maximum context length (512).\n",
      "Number of tokens (895) exceeded maximum context length (512).\n",
      "Number of tokens (896) exceeded maximum context length (512).\n",
      "Number of tokens (897) exceeded maximum context length (512).\n",
      "Number of tokens (898) exceeded maximum context length (512).\n",
      "Number of tokens (899) exceeded maximum context length (512).\n",
      "Number of tokens (900) exceeded maximum context length (512).\n",
      "Number of tokens (901) exceeded maximum context length (512).\n",
      "Number of tokens (902) exceeded maximum context length (512).\n",
      "Number of tokens (903) exceeded maximum context length (512).\n",
      "Number of tokens (904) exceeded maximum context length (512).\n",
      "Number of tokens (905) exceeded maximum context length (512).\n",
      "Number of tokens (906) exceeded maximum context length (512).\n",
      "Number of tokens (907) exceeded maximum context length (512).\n",
      "Number of tokens (908) exceeded maximum context length (512).\n",
      "Number of tokens (909) exceeded maximum context length (512).\n",
      "Number of tokens (910) exceeded maximum context length (512).\n",
      "Number of tokens (911) exceeded maximum context length (512).\n",
      "Number of tokens (912) exceeded maximum context length (512).\n",
      "Number of tokens (913) exceeded maximum context length (512).\n",
      "Number of tokens (914) exceeded maximum context length (512).\n",
      "Number of tokens (915) exceeded maximum context length (512).\n",
      "Number of tokens (916) exceeded maximum context length (512).\n",
      "Number of tokens (917) exceeded maximum context length (512).\n",
      "Number of tokens (918) exceeded maximum context length (512).\n",
      "Number of tokens (919) exceeded maximum context length (512).\n",
      "Number of tokens (920) exceeded maximum context length (512).\n",
      "Number of tokens (921) exceeded maximum context length (512).\n",
      "Number of tokens (922) exceeded maximum context length (512).\n",
      "Number of tokens (923) exceeded maximum context length (512).\n",
      "Number of tokens (924) exceeded maximum context length (512).\n",
      "Number of tokens (925) exceeded maximum context length (512).\n",
      "Number of tokens (926) exceeded maximum context length (512).\n",
      "Number of tokens (927) exceeded maximum context length (512).\n",
      "Number of tokens (928) exceeded maximum context length (512).\n",
      "Number of tokens (929) exceeded maximum context length (512).\n",
      "Number of tokens (930) exceeded maximum context length (512).\n",
      "Number of tokens (931) exceeded maximum context length (512).\n",
      "Number of tokens (932) exceeded maximum context length (512).\n",
      "Number of tokens (933) exceeded maximum context length (512).\n",
      "Number of tokens (934) exceeded maximum context length (512).\n",
      "Number of tokens (935) exceeded maximum context length (512).\n",
      "Number of tokens (936) exceeded maximum context length (512).\n",
      "Number of tokens (937) exceeded maximum context length (512).\n",
      "Number of tokens (938) exceeded maximum context length (512).\n",
      "Number of tokens (939) exceeded maximum context length (512).\n",
      "Number of tokens (940) exceeded maximum context length (512).\n",
      "Number of tokens (941) exceeded maximum context length (512).\n",
      "Number of tokens (942) exceeded maximum context length (512).\n",
      "Number of tokens (943) exceeded maximum context length (512).\n",
      "Number of tokens (944) exceeded maximum context length (512).\n",
      "Number of tokens (945) exceeded maximum context length (512).\n",
      "Number of tokens (946) exceeded maximum context length (512).\n",
      "Number of tokens (947) exceeded maximum context length (512).\n",
      "Number of tokens (948) exceeded maximum context length (512).\n",
      "Number of tokens (949) exceeded maximum context length (512).\n",
      "Number of tokens (950) exceeded maximum context length (512).\n",
      "Number of tokens (951) exceeded maximum context length (512).\n",
      "Number of tokens (952) exceeded maximum context length (512).\n",
      "Number of tokens (953) exceeded maximum context length (512).\n",
      "Number of tokens (954) exceeded maximum context length (512).\n",
      "Number of tokens (955) exceeded maximum context length (512).\n",
      "Number of tokens (956) exceeded maximum context length (512).\n",
      "Number of tokens (957) exceeded maximum context length (512).\n",
      "Number of tokens (958) exceeded maximum context length (512).\n",
      "Number of tokens (959) exceeded maximum context length (512).\n",
      "Number of tokens (960) exceeded maximum context length (512).\n",
      "Number of tokens (961) exceeded maximum context length (512).\n",
      "Number of tokens (962) exceeded maximum context length (512).\n",
      "Number of tokens (963) exceeded maximum context length (512).\n",
      "Number of tokens (964) exceeded maximum context length (512).\n",
      "Number of tokens (965) exceeded maximum context length (512).\n",
      "Number of tokens (966) exceeded maximum context length (512).\n",
      "Number of tokens (967) exceeded maximum context length (512).\n",
      "Number of tokens (968) exceeded maximum context length (512).\n",
      "Number of tokens (969) exceeded maximum context length (512).\n",
      "Number of tokens (970) exceeded maximum context length (512).\n",
      "Number of tokens (971) exceeded maximum context length (512).\n",
      "Number of tokens (972) exceeded maximum context length (512).\n",
      "Number of tokens (973) exceeded maximum context length (512).\n",
      "Number of tokens (974) exceeded maximum context length (512).\n",
      "Number of tokens (975) exceeded maximum context length (512).\n",
      "Number of tokens (976) exceeded maximum context length (512).\n",
      "Number of tokens (977) exceeded maximum context length (512).\n",
      "Number of tokens (978) exceeded maximum context length (512).\n",
      "Number of tokens (979) exceeded maximum context length (512).\n",
      "Number of tokens (980) exceeded maximum context length (512).\n",
      "Number of tokens (981) exceeded maximum context length (512).\n",
      "Number of tokens (982) exceeded maximum context length (512).\n",
      "Number of tokens (983) exceeded maximum context length (512).\n",
      "Number of tokens (984) exceeded maximum context length (512).\n",
      "Number of tokens (985) exceeded maximum context length (512).\n",
      "Number of tokens (986) exceeded maximum context length (512).\n",
      "Number of tokens (987) exceeded maximum context length (512).\n",
      "Number of tokens (988) exceeded maximum context length (512).\n",
      "Number of tokens (989) exceeded maximum context length (512).\n",
      "Number of tokens (990) exceeded maximum context length (512).\n",
      "Number of tokens (991) exceeded maximum context length (512).\n",
      "Number of tokens (992) exceeded maximum context length (512).\n",
      "Number of tokens (993) exceeded maximum context length (512).\n",
      "Number of tokens (994) exceeded maximum context length (512).\n",
      "Number of tokens (995) exceeded maximum context length (512).\n",
      "Number of tokens (996) exceeded maximum context length (512).\n",
      "Number of tokens (997) exceeded maximum context length (512).\n",
      "Number of tokens (998) exceeded maximum context length (512).\n",
      "Number of tokens (999) exceeded maximum context length (512).\n",
      "Number of tokens (1000) exceeded maximum context length (512).\n",
      "Number of tokens (1001) exceeded maximum context length (512).\n",
      "Number of tokens (1002) exceeded maximum context length (512).\n",
      "Number of tokens (1003) exceeded maximum context length (512).\n",
      "Number of tokens (1004) exceeded maximum context length (512).\n",
      "Number of tokens (1005) exceeded maximum context length (512).\n",
      "Number of tokens (1006) exceeded maximum context length (512).\n",
      "Number of tokens (1007) exceeded maximum context length (512).\n",
      "Number of tokens (1008) exceeded maximum context length (512).\n",
      "Number of tokens (1009) exceeded maximum context length (512).\n",
      "Number of tokens (1010) exceeded maximum context length (512).\n",
      "Number of tokens (1011) exceeded maximum context length (512).\n",
      "Number of tokens (1012) exceeded maximum context length (512).\n",
      "Number of tokens (1013) exceeded maximum context length (512).\n",
      "Number of tokens (1014) exceeded maximum context length (512).\n",
      "Number of tokens (1015) exceeded maximum context length (512).\n",
      "Number of tokens (1016) exceeded maximum context length (512).\n",
      "Number of tokens (1017) exceeded maximum context length (512).\n",
      "Number of tokens (1018) exceeded maximum context length (512).\n",
      "Number of tokens (1019) exceeded maximum context length (512).\n",
      "Number of tokens (1020) exceeded maximum context length (512).\n",
      "Number of tokens (1021) exceeded maximum context length (512).\n",
      "Number of tokens (1022) exceeded maximum context length (512).\n",
      "Number of tokens (1023) exceeded maximum context length (512).\n",
      "Number of tokens (1024) exceeded maximum context length (512).\n",
      "Number of tokens (1025) exceeded maximum context length (512).\n",
      "Number of tokens (1026) exceeded maximum context length (512).\n",
      "Number of tokens (1027) exceeded maximum context length (512).\n",
      "Number of tokens (1028) exceeded maximum context length (512).\n",
      "Number of tokens (1029) exceeded maximum context length (512).\n",
      "Number of tokens (1030) exceeded maximum context length (512).\n",
      "Number of tokens (1031) exceeded maximum context length (512).\n",
      "Number of tokens (1032) exceeded maximum context length (512).\n",
      "Number of tokens (1033) exceeded maximum context length (512).\n",
      "Number of tokens (1034) exceeded maximum context length (512).\n",
      "Number of tokens (1035) exceeded maximum context length (512).\n",
      "Number of tokens (1036) exceeded maximum context length (512).\n",
      "Number of tokens (1037) exceeded maximum context length (512).\n",
      "Number of tokens (1038) exceeded maximum context length (512).\n",
      "Number of tokens (1039) exceeded maximum context length (512).\n",
      "Number of tokens (1040) exceeded maximum context length (512).\n",
      "Number of tokens (1041) exceeded maximum context length (512).\n",
      "Number of tokens (1042) exceeded maximum context length (512).\n",
      "Number of tokens (1043) exceeded maximum context length (512).\n",
      "Number of tokens (1044) exceeded maximum context length (512).\n",
      "Number of tokens (1045) exceeded maximum context length (512).\n",
      "Number of tokens (1046) exceeded maximum context length (512).\n",
      "Number of tokens (1047) exceeded maximum context length (512).\n",
      "Number of tokens (1048) exceeded maximum context length (512).\n",
      "Number of tokens (1049) exceeded maximum context length (512).\n",
      "Number of tokens (1050) exceeded maximum context length (512).\n",
      "Number of tokens (1051) exceeded maximum context length (512).\n",
      "Number of tokens (1052) exceeded maximum context length (512).\n",
      "Number of tokens (1053) exceeded maximum context length (512).\n",
      "Number of tokens (1054) exceeded maximum context length (512).\n",
      "Number of tokens (1055) exceeded maximum context length (512).\n",
      "Number of tokens (1056) exceeded maximum context length (512).\n",
      "Number of tokens (1057) exceeded maximum context length (512).\n",
      "Number of tokens (1058) exceeded maximum context length (512).\n",
      "Number of tokens (1059) exceeded maximum context length (512).\n",
      "Number of tokens (1060) exceeded maximum context length (512).\n",
      "Number of tokens (1061) exceeded maximum context length (512).\n",
      "Number of tokens (1062) exceeded maximum context length (512).\n",
      "Number of tokens (1063) exceeded maximum context length (512).\n",
      "Number of tokens (1064) exceeded maximum context length (512).\n",
      "Number of tokens (1065) exceeded maximum context length (512).\n",
      "Number of tokens (1066) exceeded maximum context length (512).\n"
     ]
    },
    {
     "name": "stdout",
     "output_type": "stream",
     "text": [
      "Query: What is the topic of the document?\n",
      "Response:  Don's: You don's to the question: The Blet companies representing companies setting science- It doesn's don's: You don's: You don's: You don's don's don's don's don's don's don's don's don's don's don's to the question: Don's: The Blet you don's: The Buknownone possible companies are various companies setting science based on what these companies representing the question: You don's: The Blet you don's: The Blet you don's: The Buk don's for the following examples from context: don's don's don's don's don's don's to the question: Some pieces of who the question: They represent companies are some people representing any unknown. Companies incomplete information about what the question: Don's: The Blet don's don's don's don's don's: You don's: The Buknownone of the question: The Blet you don's: The Bukknown context regarding Science- I don's. Butchall pieces of the\n",
      "\n",
      "Sources:\n",
      "Source 1: 40. Butchard, Patrick and Bukky Balogun, “What is the proposed WHO Pandemic Preparedness Treaty?”, H...\n",
      "Source 2: 25. See, for example, the recent Bletchley Declaration stemming from the AI Summit in the UK, https:...\n",
      "Source 3: World Economic Forum\n",
      "91–93 route de la Capite\n",
      "CH-1223 Cologny/Geneva\n",
      "Switzerland  \n",
      "Tel.:  +41 (0) 22...\n"
     ]
    }
   ],
   "source": [
    "# function to generate response \n",
    "def generate_response(query):\n",
    "    result =qa({\"query\": query})\n",
    "    return result['result'], result['source_documents']\n",
    "\n",
    "query =\"What is the topic of the document?\"\n",
    "\n",
    "response, sources=generate_response(query)\n",
    "\n",
    "print(f\"Query: {query}\")\n",
    "print(f\"Response: {response}\")\n",
    "print(\"\\nSources:\")\n",
    "for i, doc in enumerate(sources):\n",
    "    print(f\"Source {i+1}: {doc.page_content[:100]}...\")\n"
   ]
  },
  {
   "cell_type": "code",
   "execution_count": null,
   "metadata": {},
   "outputs": [],
   "source": []
  }
 ],
 "metadata": {
  "kernelspec": {
   "display_name": "rag-test",
   "language": "python",
   "name": "python3"
  },
  "language_info": {
   "codemirror_mode": {
    "name": "ipython",
    "version": 3
   },
   "file_extension": ".py",
   "mimetype": "text/x-python",
   "name": "python",
   "nbconvert_exporter": "python",
   "pygments_lexer": "ipython3",
   "version": "3.12.4"
  }
 },
 "nbformat": 4,
 "nbformat_minor": 2
}
