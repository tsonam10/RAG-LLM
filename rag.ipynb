{
 "cells": [
  {
   "cell_type": "code",
   "execution_count": 7,
   "metadata": {},
   "outputs": [],
   "source": [
    "from langchain_community.document_loaders import PyPDFLoader\n",
    "from langchain_text_splitters import RecursiveCharacterTextSplitter\n",
    "from langchain_community.embeddings import HuggingFaceEmbeddings\n",
    "from langchain_community.vectorstores import Chroma\n",
    "from langchain_community.llms import HuggingFacePipeline\n",
    "from langchain.chains import RetrievalQA\n",
    "from transformers import AutoTokenizer, AutoModelForCausalLM, pipeline"
   ]
  },
  {
   "cell_type": "code",
   "execution_count": 20,
   "metadata": {},
   "outputs": [
    {
     "name": "stderr",
     "output_type": "stream",
     "text": [
      "100%|██████████| 2/2 [00:03<00:00,  1.54s/it]\n"
     ]
    }
   ],
   "source": [
    "from langchain_community.document_loaders import DirectoryLoader\n",
    "\n",
    "loader =DirectoryLoader('data/', glob=\"**/*.pdf\", show_progress=True, loader_cls=PyPDFLoader)\n",
    "documents = loader.load()"
   ]
  },
  {
   "cell_type": "code",
   "execution_count": 21,
   "metadata": {},
   "outputs": [],
   "source": [
    "# split text into chunks\n",
    "text_splitter = RecursiveCharacterTextSplitter(chunk_size=1000, chunk_overlap=100)\n",
    "texts = text_splitter.split_documents(documents)"
   ]
  },
  {
   "cell_type": "code",
   "execution_count": 22,
   "metadata": {},
   "outputs": [],
   "source": [
    "embeddings = HuggingFaceEmbeddings(\n",
    "    model_name = \"BAAI/bge-large-en\",\n",
    "    model_kwargs = {'device': 'cpu'},\n",
    "    encode_kwargs ={'normalize_embeddings': False}\n",
    "\n",
    ")\n"
   ]
  },
  {
   "cell_type": "code",
   "execution_count": 26,
   "metadata": {},
   "outputs": [
    {
     "name": "stdout",
     "output_type": "stream",
     "text": [
      "Vector Store Created....\n"
     ]
    }
   ],
   "source": [
    "# ingesting into chromadb \n",
    "\n",
    "vector_store =Chroma.from_documents(texts, embeddings, collection_metadata ={\"hnsw:space\": \"cosine\"}, persist_directory=\"stores/pet_cosine\")\n",
    "print('Vector Store Created....')"
   ]
  },
  {
   "cell_type": "code",
   "execution_count": 32,
   "metadata": {},
   "outputs": [
    {
     "name": "stdout",
     "output_type": "stream",
     "text": [
      "LLM Initialized....\n"
     ]
    }
   ],
   "source": [
    "from langchain.llms import CTransformers\n",
    "import os \n",
    "model =\"neural-chat-7b-v3-1.Q4_K_M.gguf\"\n",
    "\n",
    "config ={\n",
    "    'max_new_tokens': 1024,\n",
    "    'repetition_penalty': 1.1,\n",
    "    'temperature': 0.1,\n",
    "    'top_k': 50,\n",
    "    'top_p': 0.9,\n",
    "    'stream': True,\n",
    "    'threads': int(os.cpu_count() / 2)\n",
    "}\n",
    "\n",
    "llm=CTransformers(\n",
    "    model = model, \n",
    "    model_type ='llama',\n",
    "    max_new_tokens=1024,\n",
    "    temperature=0.1,\n",
    "    top_p=0.95,\n",
    "    top_k=50,\n",
    "    repetition_penality=1.1\n",
    " \n",
    ")\n",
    "\n",
    "print(\"LLM Initialized....\")"
   ]
  },
  {
   "cell_type": "code",
   "execution_count": 33,
   "metadata": {},
   "outputs": [],
   "source": [
    "prompt_template = \"\"\"Use the following pieces of information to answer the user's question.\n",
    "If you don't know the answer, just say that you don't know, don't try to make up an answer.\n",
    "\n",
    "Context: {context}\n",
    "Question: {question}\n",
    "\n",
    "Only return the helpful answer below and nothing else.\n",
    "Helpful answer:\n",
    "\"\"\""
   ]
  },
  {
   "cell_type": "code",
   "execution_count": 34,
   "metadata": {},
   "outputs": [
    {
     "name": "stderr",
     "output_type": "stream",
     "text": [
      "/Users/tsonam/Desktop/Rag_llm/rag-test/lib/python3.12/site-packages/langchain_core/_api/deprecation.py:139: LangChainDeprecationWarning: The class `Chroma` was deprecated in LangChain 0.2.9 and will be removed in 0.4. An updated version of the class exists in the langchain-chroma package and should be used instead. To use it run `pip install -U langchain-chroma` and import as `from langchain_chroma import Chroma`.\n",
      "  warn_deprecated(\n"
     ]
    }
   ],
   "source": [
    "load_vector_store = Chroma(persist_directory=\"stores/pet_cosine\", embedding_function=embeddings)"
   ]
  },
  {
   "cell_type": "code",
   "execution_count": 35,
   "metadata": {},
   "outputs": [],
   "source": [
    "retriever = load_vector_store.as_retriever(search_kwargs={\"k\":1})"
   ]
  },
  {
   "cell_type": "code",
   "execution_count": 47,
   "metadata": {},
   "outputs": [],
   "source": [
    "\n",
    "def generate_response1(query):\n",
    "    qa = RetrievalQA.from_chain_type(\n",
    "    llm = llm,\n",
    "    chain_type ='stuff',\n",
    "    retriever =retriever,\n",
    "    return_source_documents=True,\n",
    "    verbose=True \n",
    ")\n",
    "    response = qa(query)\n",
    "    print(response)\n",
    "    answer = response['result']\n",
    "    source_document = response['source_documents'][0].page_content\n",
    "    doc = response['source_documents'][0].metadata['source']\n",
    "    response_data = {\"answer\": answer, \"source_document\": source_document, \"doc\": doc}\n",
    "\n",
    "    return json.dumps(response_data, indent=2)"
   ]
  },
  {
   "cell_type": "code",
   "execution_count": 48,
   "metadata": {},
   "outputs": [
    {
     "name": "stdout",
     "output_type": "stream",
     "text": [
      "\n",
      "\n",
      "\u001b[1m> Entering new RetrievalQA chain...\u001b[0m\n",
      "\n",
      "\u001b[1m> Finished chain.\u001b[0m\n",
      "{'query': 'How is GAAP accounting different from tax accounting?', 'result': ' GAAP is accrual-based but tax is cash-based. GAAP uses straight-line depreciation or a few other methods whereas tax accounting has accelerated depreciation. GAAP is more complex and accurately tracks assets/liabilities, while tax accounting focuses on revenue/expenses in the current period and income taxes due.', 'source_documents': [Document(metadata={'page': 18, 'source': 'data/400 Questions & Technicals.pdf'}, page_content='http://breakingintowallstreet.com http://www.mergersandinquisitions.com  \\n \\n19 \\n \\n \\n Accounting  Questions & Answers – Advanced  \\n \\nThese more advanced questions cover topics like deferred tax assets and liabilities and \\nhow to actually project a company’s finan cial statements in an operating model.  \\n \\nYou may get some of these in investment banking interviews, but they’re more common \\nif you’ve had significant finance experience or you’re interviewing for private equity, or \\nwith a more technical group.  \\n \\n1. How is G AAP accounting different from tax accounting?  \\n \\n1. GAAP is accrual -based but tax is cash -based.  \\n2. GAAP uses straight -line depreciation or a few other methods whereas tax \\naccounting is different (accelerated depreciation).  \\n3. GAAP is more complex and more accurately  tracks assets/liabilities whereas tax \\naccounting is only concerned with revenue/expenses in the current period and \\nwhat income tax you owe.')]}\n"
     ]
    },
    {
     "data": {
      "text/plain": [
       "'{\\n  \"answer\": \" GAAP is accrual-based but tax is cash-based. GAAP uses straight-line depreciation or a few other methods whereas tax accounting has accelerated depreciation. GAAP is more complex and accurately tracks assets/liabilities, while tax accounting focuses on revenue/expenses in the current period and income taxes due.\",\\n  \"source_document\": \"http://breakingintowallstreet.com http://www.mergersandinquisitions.com  \\\\n \\\\n19 \\\\n \\\\n \\\\n Accounting  Questions & Answers \\\\u2013 Advanced  \\\\n \\\\nThese more advanced questions cover topics like deferred tax assets and liabilities and \\\\nhow to actually project a company\\\\u2019s finan cial statements in an operating model.  \\\\n \\\\nYou may get some of these in investment banking interviews, but they\\\\u2019re more common \\\\nif you\\\\u2019ve had significant finance experience or you\\\\u2019re interviewing for private equity, or \\\\nwith a more technical group.  \\\\n \\\\n1. How is G AAP accounting different from tax accounting?  \\\\n \\\\n1. GAAP is accrual -based but tax is cash -based.  \\\\n2. GAAP uses straight -line depreciation or a few other methods whereas tax \\\\naccounting is different (accelerated depreciation).  \\\\n3. GAAP is more complex and more accurately  tracks assets/liabilities whereas tax \\\\naccounting is only concerned with revenue/expenses in the current period and \\\\nwhat income tax you owe.\",\\n  \"doc\": \"data/400 Questions & Technicals.pdf\"\\n}'"
      ]
     },
     "execution_count": 48,
     "metadata": {},
     "output_type": "execute_result"
    }
   ],
   "source": [
    "query ='How is GAAP accounting different from tax accounting?'\n",
    "\n",
    "generate_response1(query)"
   ]
  }
 ],
 "metadata": {
  "kernelspec": {
   "display_name": "rag-test",
   "language": "python",
   "name": "python3"
  },
  "language_info": {
   "codemirror_mode": {
    "name": "ipython",
    "version": 3
   },
   "file_extension": ".py",
   "mimetype": "text/x-python",
   "name": "python",
   "nbconvert_exporter": "python",
   "pygments_lexer": "ipython3",
   "version": "3.12.4"
  }
 },
 "nbformat": 4,
 "nbformat_minor": 2
}
